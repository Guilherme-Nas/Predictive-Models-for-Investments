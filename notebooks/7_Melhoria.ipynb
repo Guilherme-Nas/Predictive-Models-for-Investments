{
 "cells": [
  {
   "cell_type": "code",
   "execution_count": 1,
   "id": "5399f484-a947-4713-af59-8a15fd767b93",
   "metadata": {},
   "outputs": [],
   "source": [
    "# [1] Imports\n",
    "import pandas as pd\n",
    "import numpy as np\n",
    "import matplotlib.pyplot as plt\n",
    "\n",
    "from prophet import Prophet\n",
    "from sklearn.metrics import mean_absolute_error\n",
    "\n",
    "from tensorflow.keras.models import Sequential\n",
    "from tensorflow.keras.layers import LSTM, Dense\n",
    "from sklearn.preprocessing import MinMaxScaler\n",
    "\n",
    "import warnings\n",
    "warnings.filterwarnings('ignore')\n"
   ]
  },
  {
   "cell_type": "code",
   "execution_count": 2,
   "id": "9ef60f7f-39f0-4dc7-9f5f-56bddcf61489",
   "metadata": {},
   "outputs": [
    {
     "name": "stdout",
     "output_type": "stream",
     "text": [
      "Dataset: 2020-06-01 00:00:00 -> 2025-05-31 00:00:00 | pontos = 1826\n"
     ]
    },
    {
     "data": {
      "text/html": [
       "<div>\n",
       "<style scoped>\n",
       "    .dataframe tbody tr th:only-of-type {\n",
       "        vertical-align: middle;\n",
       "    }\n",
       "\n",
       "    .dataframe tbody tr th {\n",
       "        vertical-align: top;\n",
       "    }\n",
       "\n",
       "    .dataframe thead th {\n",
       "        text-align: right;\n",
       "    }\n",
       "</style>\n",
       "<table border=\"1\" class=\"dataframe\">\n",
       "  <thead>\n",
       "    <tr style=\"text-align: right;\">\n",
       "      <th></th>\n",
       "      <th>Date</th>\n",
       "      <th>Close</th>\n",
       "      <th>Hight</th>\n",
       "      <th>Low</th>\n",
       "      <th>Open</th>\n",
       "      <th>Volume</th>\n",
       "    </tr>\n",
       "  </thead>\n",
       "  <tbody>\n",
       "    <tr>\n",
       "      <th>1821</th>\n",
       "      <td>2025-05-27</td>\n",
       "      <td>108994.640625</td>\n",
       "      <td>110744.210938</td>\n",
       "      <td>107609.554688</td>\n",
       "      <td>109440.406250</td>\n",
       "      <td>57450176272</td>\n",
       "    </tr>\n",
       "    <tr>\n",
       "      <th>1822</th>\n",
       "      <td>2025-05-28</td>\n",
       "      <td>107802.328125</td>\n",
       "      <td>109298.289062</td>\n",
       "      <td>106812.929688</td>\n",
       "      <td>108992.171875</td>\n",
       "      <td>49155377493</td>\n",
       "    </tr>\n",
       "    <tr>\n",
       "      <th>1823</th>\n",
       "      <td>2025-05-29</td>\n",
       "      <td>105641.757812</td>\n",
       "      <td>108910.046875</td>\n",
       "      <td>105374.398438</td>\n",
       "      <td>107795.570312</td>\n",
       "      <td>56022752042</td>\n",
       "    </tr>\n",
       "    <tr>\n",
       "      <th>1824</th>\n",
       "      <td>2025-05-30</td>\n",
       "      <td>103998.570312</td>\n",
       "      <td>106308.945312</td>\n",
       "      <td>103685.789062</td>\n",
       "      <td>105646.210938</td>\n",
       "      <td>57655287183</td>\n",
       "    </tr>\n",
       "    <tr>\n",
       "      <th>1825</th>\n",
       "      <td>2025-05-31</td>\n",
       "      <td>104638.093750</td>\n",
       "      <td>104927.101562</td>\n",
       "      <td>103136.117188</td>\n",
       "      <td>103994.718750</td>\n",
       "      <td>38997843858</td>\n",
       "    </tr>\n",
       "  </tbody>\n",
       "</table>\n",
       "</div>"
      ],
      "text/plain": [
       "           Date          Close          Hight            Low           Open  \\\n",
       "1821 2025-05-27  108994.640625  110744.210938  107609.554688  109440.406250   \n",
       "1822 2025-05-28  107802.328125  109298.289062  106812.929688  108992.171875   \n",
       "1823 2025-05-29  105641.757812  108910.046875  105374.398438  107795.570312   \n",
       "1824 2025-05-30  103998.570312  106308.945312  103685.789062  105646.210938   \n",
       "1825 2025-05-31  104638.093750  104927.101562  103136.117188  103994.718750   \n",
       "\n",
       "           Volume  \n",
       "1821  57450176272  \n",
       "1822  49155377493  \n",
       "1823  56022752042  \n",
       "1824  57655287183  \n",
       "1825  38997843858  "
      ]
     },
     "execution_count": 2,
     "metadata": {},
     "output_type": "execute_result"
    }
   ],
   "source": [
    "# [2] Carregar CSV\n",
    "def load_csv(path='data/btc_limpo.csv'):\n",
    "    df = pd.read_csv(path)\n",
    "    df['Date'] = pd.to_datetime(df['Date'])\n",
    "    df = df.sort_values('Date').reset_index(drop=True)\n",
    "    # garantir coluna Close numérica\n",
    "    df['Close'] = pd.to_numeric(df['Close'], errors='coerce')\n",
    "    df = df.dropna(subset=['Close']).reset_index(drop=True)\n",
    "    return df\n",
    "\n",
    "df = load_csv()\n",
    "print('Dataset:', df['Date'].min(), '->', df['Date'].max(), '| pontos =', len(df))\n",
    "df.tail()\n"
   ]
  },
  {
   "cell_type": "code",
   "execution_count": 3,
   "id": "e17e1683-68eb-4e17-b991-6cdf8539032d",
   "metadata": {},
   "outputs": [
    {
     "name": "stdout",
     "output_type": "stream",
     "text": [
      "Treino: (1766, 6) | Teste: (60, 6)\n"
     ]
    }
   ],
   "source": [
    "# [3] Split em treino e teste (últimos 60 dias)\n",
    "def train_test_split(df, test_size=60):\n",
    "    train = df.iloc[:-test_size].copy()\n",
    "    test = df.iloc[-test_size:].copy()\n",
    "    return train, test\n",
    "\n",
    "train_df, test_df = train_test_split(df)\n",
    "print('Treino:', train_df.shape, '| Teste:', test_df.shape)\n"
   ]
  },
  {
   "cell_type": "code",
   "execution_count": 5,
   "id": "139605f5-1307-414e-9f83-66d93fd7dddd",
   "metadata": {},
   "outputs": [],
   "source": [
    "# [4] Avaliação\n",
    "def mape(y_true, y_pred):\n",
    "    y_true, y_pred = np.array(y_true), np.array(y_pred)\n",
    "    return np.mean(np.abs((y_true - y_pred) / y_true)) * 100\n",
    "\n",
    "def evaluate(true, pred, name):\n",
    "    print(f'{name} MAPE: {mape(true, pred):.2f}%')\n"
   ]
  },
  {
   "cell_type": "code",
   "execution_count": 6,
   "id": "89030460-a772-4b3c-961f-f8045411d35d",
   "metadata": {},
   "outputs": [],
   "source": [
    "# [5] Prophet\n",
    "def run_prophet(train_df, test_df, horizon=7):\n",
    "    prophet_df = train_df[['Date','Close']].rename(columns={'Date':'ds','Close':'y'})\n",
    "    prophet_df['ds'] = pd.to_datetime(prophet_df['ds'])\n",
    "    prophet_df['y'] = prophet_df['y'].astype(float)\n",
    "\n",
    "    model = Prophet()\n",
    "    model.fit(prophet_df)\n",
    "\n",
    "    future = model.make_future_dataframe(periods=len(test_df), freq='D')\n",
    "    forecast = model.predict(future)\n",
    "\n",
    "    preds = forecast[['ds','yhat']].tail(len(test_df)).reset_index(drop=True)\n",
    "    preds['yhat'] = preds['yhat'].astype(float)\n",
    "    return preds['yhat'].values\n"
   ]
  },
  {
   "cell_type": "code",
   "execution_count": 7,
   "id": "51da4810-eef6-48b1-915c-bb41839f435e",
   "metadata": {},
   "outputs": [],
   "source": [
    "# [6] LSTM\n",
    "def run_lstm(train_df, test_df, lookback=30, epochs=10, horizon=7):\n",
    "    scaler = MinMaxScaler(feature_range=(0,1))\n",
    "    scaled = scaler.fit_transform(train_df[['Close']])\n",
    "\n",
    "    X, y = [], []\n",
    "    for i in range(lookback, len(scaled)):\n",
    "        X.append(scaled[i-lookback:i, 0])\n",
    "        y.append(scaled[i, 0])\n",
    "    X, y = np.array(X), np.array(y)\n",
    "    X = np.reshape(X, (X.shape[0], X.shape[1], 1))\n",
    "\n",
    "    model = Sequential()\n",
    "    model.add(LSTM(50, return_sequences=True, input_shape=(X.shape[1],1)))\n",
    "    model.add(LSTM(50))\n",
    "    model.add(Dense(1))\n",
    "    model.compile(optimizer='adam', loss='mean_squared_error')\n",
    "    model.fit(X, y, epochs=epochs, batch_size=32, verbose=0)\n",
    "\n",
    "    # Previsão rolling no teste\n",
    "    test_scaled = scaler.transform(test_df[['Close']])\n",
    "    inputs = np.concatenate((scaled[-lookback:], test_scaled))\n",
    "    \n",
    "    X_test, y_test = [], []\n",
    "    for i in range(lookback, len(inputs)):\n",
    "        X_test.append(inputs[i-lookback:i, 0])\n",
    "        y_test.append(inputs[i, 0])\n",
    "    X_test, y_test = np.array(X_test), np.array(y_test)\n",
    "    X_test = np.reshape(X_test, (X_test.shape[0], X_test.shape[1], 1))\n",
    "\n",
    "    preds_scaled = model.predict(X_test)\n",
    "    preds = scaler.inverse_transform(preds_scaled)\n",
    "    return preds.ravel()\n"
   ]
  },
  {
   "cell_type": "code",
   "execution_count": 8,
   "id": "ec47c817-ce35-4f9d-86bd-5ffa5c1c91b6",
   "metadata": {},
   "outputs": [
    {
     "name": "stderr",
     "output_type": "stream",
     "text": [
      "23:24:40 - cmdstanpy - INFO - Chain [1] start processing\n",
      "23:24:40 - cmdstanpy - INFO - Chain [1] done processing\n"
     ]
    },
    {
     "name": "stdout",
     "output_type": "stream",
     "text": [
      "Prophet 1d MAPE: 13.82%\n",
      "\u001b[1m2/2\u001b[0m \u001b[32m━━━━━━━━━━━━━━━━━━━━\u001b[0m\u001b[37m\u001b[0m \u001b[1m1s\u001b[0m 369ms/step\n",
      "LSTM 1d MAPE: 2.47%\n"
     ]
    },
    {
     "name": "stderr",
     "output_type": "stream",
     "text": [
      "23:24:56 - cmdstanpy - INFO - Chain [1] start processing\n",
      "23:24:56 - cmdstanpy - INFO - Chain [1] done processing\n"
     ]
    },
    {
     "name": "stdout",
     "output_type": "stream",
     "text": [
      "Prophet 3d MAPE: 13.82%\n",
      "\u001b[1m2/2\u001b[0m \u001b[32m━━━━━━━━━━━━━━━━━━━━\u001b[0m\u001b[37m\u001b[0m \u001b[1m1s\u001b[0m 367ms/step\n",
      "LSTM 3d MAPE: 4.03%\n"
     ]
    },
    {
     "name": "stderr",
     "output_type": "stream",
     "text": [
      "23:25:09 - cmdstanpy - INFO - Chain [1] start processing\n",
      "23:25:09 - cmdstanpy - INFO - Chain [1] done processing\n"
     ]
    },
    {
     "name": "stdout",
     "output_type": "stream",
     "text": [
      "Prophet 7d MAPE: 13.82%\n",
      "WARNING:tensorflow:5 out of the last 5 calls to <function TensorFlowTrainer.make_predict_function.<locals>.one_step_on_data_distributed at 0x0000017883A628E0> triggered tf.function retracing. Tracing is expensive and the excessive number of tracings could be due to (1) creating @tf.function repeatedly in a loop, (2) passing tensors with different shapes, (3) passing Python objects instead of tensors. For (1), please define your @tf.function outside of the loop. For (2), @tf.function has reduce_retracing=True option that can avoid unnecessary retracing. For (3), please refer to https://www.tensorflow.org/guide/function#controlling_retracing and https://www.tensorflow.org/api_docs/python/tf/function for  more details.\n",
      "WARNING:tensorflow:6 out of the last 6 calls to <function TensorFlowTrainer.make_predict_function.<locals>.one_step_on_data_distributed at 0x0000017883A628E0> triggered tf.function retracing. Tracing is expensive and the excessive number of tracings could be due to (1) creating @tf.function repeatedly in a loop, (2) passing tensors with different shapes, (3) passing Python objects instead of tensors. For (1), please define your @tf.function outside of the loop. For (2), @tf.function has reduce_retracing=True option that can avoid unnecessary retracing. For (3), please refer to https://www.tensorflow.org/guide/function#controlling_retracing and https://www.tensorflow.org/api_docs/python/tf/function for  more details.\n",
      "\u001b[1m2/2\u001b[0m \u001b[32m━━━━━━━━━━━━━━━━━━━━\u001b[0m\u001b[37m\u001b[0m \u001b[1m1s\u001b[0m 699ms/step\n",
      "LSTM 7d MAPE: 2.83%\n",
      "Gráficos salvos como prophet_*.png e lstm_*.png\n"
     ]
    }
   ],
   "source": [
    "# [7] Rodar experimentos\n",
    "horizons = [1, 3, 7]\n",
    "\n",
    "for h in horizons:\n",
    "    # Prophet\n",
    "    prophet_preds = run_prophet(train_df, test_df, horizon=h)\n",
    "    evaluate(test_df['Close'].values[:len(prophet_preds)], prophet_preds, f'Prophet {h}d')\n",
    "\n",
    "    plt.figure(figsize=(10,5))\n",
    "    plt.plot(test_df['Date'][:len(prophet_preds)], test_df['Close'][:len(prophet_preds)], label='Real')\n",
    "    plt.plot(test_df['Date'][:len(prophet_preds)], prophet_preds, label=f'Prophet {h}d')\n",
    "    plt.title(f'Prophet Previsão {h} dias')\n",
    "    plt.legend()\n",
    "    plt.savefig(f'prophet_{h}d.png')\n",
    "    plt.close()\n",
    "\n",
    "    # LSTM\n",
    "    lstm_preds = run_lstm(train_df, test_df, horizon=h)\n",
    "    evaluate(test_df['Close'].values[:len(lstm_preds)], lstm_preds, f'LSTM {h}d')\n",
    "\n",
    "    plt.figure(figsize=(10,5))\n",
    "    plt.plot(test_df['Date'][:len(lstm_preds)], test_df['Close'][:len(lstm_preds)], label='Real')\n",
    "    plt.plot(test_df['Date'][:len(lstm_preds)], lstm_preds, label=f'LSTM {h}d')\n",
    "    plt.title(f'LSTM Previsão {h} dias')\n",
    "    plt.legend()\n",
    "    plt.savefig(f'lstm_{h}d.png')\n",
    "    plt.close()\n",
    "\n",
    "print(\"Gráficos salvos como prophet_*.png e lstm_*.png\")\n"
   ]
  },
  {
   "cell_type": "code",
   "execution_count": null,
   "id": "44fe19bd-5d7a-4834-b5a4-9e3853741aec",
   "metadata": {},
   "outputs": [],
   "source": []
  }
 ],
 "metadata": {
  "kernelspec": {
   "display_name": "Python 3 (ipykernel)",
   "language": "python",
   "name": "python3"
  },
  "language_info": {
   "codemirror_mode": {
    "name": "ipython",
    "version": 3
   },
   "file_extension": ".py",
   "mimetype": "text/x-python",
   "name": "python",
   "nbconvert_exporter": "python",
   "pygments_lexer": "ipython3",
   "version": "3.13.5"
  }
 },
 "nbformat": 4,
 "nbformat_minor": 5
}
