{
 "cells": [
  {
   "cell_type": "code",
   "execution_count": 16,
   "id": "6e239dde-e27b-49c2-8373-a18c9b282c15",
   "metadata": {},
   "outputs": [],
   "source": [
    "# [1] Imports\n",
    "import pandas as pd\n",
    "import numpy as np\n",
    "import matplotlib.pyplot as plt\n",
    "import tensorflow as tf\n",
    "from tensorflow.keras.models import Sequential\n",
    "from tensorflow.keras.layers import Dense, LSTM\n",
    "from prophet import Prophet\n",
    "from sklearn.preprocessing import MinMaxScaler\n",
    "from sklearn.metrics import mean_absolute_percentage_error\n",
    "import os\n"
   ]
  },
  {
   "cell_type": "code",
   "execution_count": 17,
   "id": "dfeedeb8-0be2-44ef-a967-88807a7dff4d",
   "metadata": {},
   "outputs": [
    {
     "name": "stdout",
     "output_type": "stream",
     "text": [
      "Série carregada: 2020-06-01 00:00:00 até 2025-05-31 00:00:00 | pontos = 1826\n"
     ]
    },
    {
     "data": {
      "text/plain": [
       "Date\n",
       "2025-05-27    108994.640625\n",
       "2025-05-28    107802.328125\n",
       "2025-05-29    105641.757812\n",
       "2025-05-30    103998.570312\n",
       "2025-05-31    104638.093750\n",
       "Freq: D, Name: Close, dtype: float64"
      ]
     },
     "execution_count": 17,
     "metadata": {},
     "output_type": "execute_result"
    }
   ],
   "source": [
    "## [2] Função para carregar a série histórica a partir do CSV\n",
    "def get_series_from_csv(path='data/btc_limpo.csv'):\n",
    "    df = pd.read_csv(path)\n",
    "\n",
    "    if not {'Date', 'Close'}.issubset(df.columns):\n",
    "        raise RuntimeError('CSV precisa conter colunas \"Date\" e \"Close\".')\n",
    "\n",
    "    df['Date'] = pd.to_datetime(df['Date'])\n",
    "    df['Close'] = pd.to_numeric(df['Close'], errors='coerce')\n",
    "    df = df.dropna(subset=['Close']).sort_values('Date').reset_index(drop=True)\n",
    "\n",
    "    # Série diária com preenchimento forward\n",
    "    s = df.set_index('Date')['Close'].asfreq('D').ffill()\n",
    "    return s\n",
    "\n",
    "# Exemplo de carregamento\n",
    "series = get_series_from_csv('data/btc_limpo.csv')\n",
    "print('Série carregada:', series.index.min(), 'até', series.index.max(), '| pontos =', len(series))\n",
    "series.tail()\n"
   ]
  },
  {
   "cell_type": "code",
   "execution_count": 18,
   "id": "061453d1-28d2-4f72-94f3-b1a5592c1c2e",
   "metadata": {},
   "outputs": [
    {
     "name": "stdout",
     "output_type": "stream",
     "text": [
      "Treino: 2020-06-01 00:00:00 até 2024-05-30 00:00:00 | pontos = 1460\n",
      "Teste : 2024-05-31 00:00:00 até 2025-05-31 00:00:00 | pontos = 366\n"
     ]
    }
   ],
   "source": [
    "# [3] Função para preparar os dados (treino e teste)\n",
    "def prepare_data(series, split_ratio=0.8):\n",
    "    n = len(series)\n",
    "    split = int(n * split_ratio)\n",
    "    train = series.iloc[:split]\n",
    "    test = series.iloc[split:]\n",
    "    return train, test\n",
    "\n",
    "train, test = prepare_data(series)\n",
    "print('Treino:', train.index.min(), 'até', train.index.max(), '| pontos =', len(train))\n",
    "print('Teste :', test.index.min(), 'até', test.index.max(), '| pontos =', len(test))\n"
   ]
  },
  {
   "cell_type": "code",
   "execution_count": 19,
   "id": "47509390-be34-4c60-8c5c-678f90049e2e",
   "metadata": {},
   "outputs": [
    {
     "name": "stderr",
     "output_type": "stream",
     "text": [
      "01:57:05 - cmdstanpy - INFO - Chain [1] start processing\n",
      "01:57:06 - cmdstanpy - INFO - Chain [1] done processing\n"
     ]
    },
    {
     "name": "stdout",
     "output_type": "stream",
     "text": [
      "Prophet (3 dias): [60995.68774736 60854.50977639 60777.78182861]\n"
     ]
    }
   ],
   "source": [
    "# [4] Função Prophet\n",
    "def run_prophet(train, test, horizon):\n",
    "    df_train = pd.DataFrame({'ds': train.index, 'y': train.values})\n",
    "    model = Prophet()\n",
    "    model.fit(df_train)\n",
    "\n",
    "    future = model.make_future_dataframe(periods=horizon)\n",
    "    forecast = model.predict(future)\n",
    "\n",
    "    preds = forecast.set_index('ds')['yhat'].iloc[-horizon:]\n",
    "    return preds.values\n",
    "\n",
    "# Exemplo rápido: previsão de 3 dias\n",
    "prophet_preds = run_prophet(train, test, 3)\n",
    "print('Prophet (3 dias):', prophet_preds)\n"
   ]
  },
  {
   "cell_type": "code",
   "execution_count": 20,
   "id": "4007f723-e18c-457a-92d3-5e89483b9441",
   "metadata": {},
   "outputs": [],
   "source": [
    "# [5] Função para criar dataset em janelas (para LSTM)\n",
    "def create_dataset(series, look_back=10):\n",
    "    X, y = [], []\n",
    "    for i in range(len(series) - look_back):\n",
    "        X.append(series[i:(i + look_back)])\n",
    "        y.append(series[i + look_back])\n",
    "    return np.array(X), np.array(y)\n"
   ]
  },
  {
   "cell_type": "code",
   "execution_count": 21,
   "id": "2c7c27bc-beac-46d4-8242-45a21ee20dd8",
   "metadata": {},
   "outputs": [
    {
     "name": "stdout",
     "output_type": "stream",
     "text": [
      "LSTM (3 dias): [66356.57  65875.08  65166.633]\n"
     ]
    }
   ],
   "source": [
    "# [6] Função LSTM\n",
    "def run_lstm(train, test, horizon, look_back=10, epochs=20):\n",
    "    scaler = MinMaxScaler(feature_range=(0,1))\n",
    "    scaled = scaler.fit_transform(train.values.reshape(-1,1))\n",
    "\n",
    "    X_train, y_train = create_dataset(scaled, look_back)\n",
    "    X_train = X_train.reshape((X_train.shape[0], X_train.shape[1], 1))\n",
    "\n",
    "    model = Sequential()\n",
    "    model.add(LSTM(50, return_sequences=True, input_shape=(look_back,1)))\n",
    "    model.add(LSTM(50))\n",
    "    model.add(Dense(1))\n",
    "    model.compile(optimizer='adam', loss='mean_squared_error')\n",
    "    model.fit(X_train, y_train, epochs=epochs, batch_size=32, verbose=0)\n",
    "\n",
    "    # usar últimos dados do treino para projetar no futuro\n",
    "    input_seq = scaled[-look_back:].reshape(1, look_back, 1)\n",
    "    preds = []\n",
    "    for _ in range(horizon):\n",
    "        pred = model.predict(input_seq, verbose=0)[0][0]\n",
    "        preds.append(pred)\n",
    "        input_seq = np.append(input_seq[:,1:,:], [[[pred]]], axis=1)\n",
    "\n",
    "    preds = scaler.inverse_transform(np.array(preds).reshape(-1,1)).flatten()\n",
    "    return preds\n",
    "\n",
    "# Exemplo rápido: previsão de 3 dias\n",
    "lstm_preds = run_lstm(train, test, 3)\n",
    "print('LSTM (3 dias):', lstm_preds)\n"
   ]
  },
  {
   "cell_type": "code",
   "execution_count": 23,
   "id": "824bd87f-cf5b-4222-95a5-579a012db227",
   "metadata": {},
   "outputs": [],
   "source": [
    "# [7] Função de avaliação\n",
    "def evaluate(y_true, y_pred, label):\n",
    "    mape = mean_absolute_percentage_error(y_true, y_pred) * 100\n",
    "    print(f'{label} - MAPE: {mape:.2f}%')\n",
    "    return mape\n"
   ]
  },
  {
   "cell_type": "code",
   "execution_count": 24,
   "id": "de6a05c0-0c71-4dca-ab85-6567a6d45a6e",
   "metadata": {},
   "outputs": [
    {
     "name": "stderr",
     "output_type": "stream",
     "text": [
      "01:58:41 - cmdstanpy - INFO - Chain [1] start processing\n",
      "01:58:42 - cmdstanpy - INFO - Chain [1] done processing\n",
      "01:58:54 - cmdstanpy - INFO - Chain [1] start processing\n"
     ]
    },
    {
     "name": "stdout",
     "output_type": "stream",
     "text": [
      "Prophet 1d - MAPE: 9.62%\n",
      "LSTM 1d - MAPE: 0.63%\n"
     ]
    },
    {
     "name": "stderr",
     "output_type": "stream",
     "text": [
      "01:58:54 - cmdstanpy - INFO - Chain [1] done processing\n",
      "01:59:06 - cmdstanpy - INFO - Chain [1] start processing\n"
     ]
    },
    {
     "name": "stdout",
     "output_type": "stream",
     "text": [
      "Prophet 3d - MAPE: 10.01%\n",
      "LSTM 3d - MAPE: 2.57%\n"
     ]
    },
    {
     "name": "stderr",
     "output_type": "stream",
     "text": [
      "01:59:07 - cmdstanpy - INFO - Chain [1] done processing\n"
     ]
    },
    {
     "name": "stdout",
     "output_type": "stream",
     "text": [
      "WARNING:tensorflow:5 out of the last 15 calls to <function TensorFlowTrainer.make_predict_function.<locals>.one_step_on_data_distributed at 0x0000020194A79BC0> triggered tf.function retracing. Tracing is expensive and the excessive number of tracings could be due to (1) creating @tf.function repeatedly in a loop, (2) passing tensors with different shapes, (3) passing Python objects instead of tensors. For (1), please define your @tf.function outside of the loop. For (2), @tf.function has reduce_retracing=True option that can avoid unnecessary retracing. For (3), please refer to https://www.tensorflow.org/guide/function#controlling_retracing and https://www.tensorflow.org/api_docs/python/tf/function for  more details.\n",
      "Prophet 7d - MAPE: 12.22%\n",
      "LSTM 7d - MAPE: 4.26%\n"
     ]
    }
   ],
   "source": [
    "# [8] Rodar previsões para horizontes de 1, 3 e 7 dias\n",
    "horizons = [1, 3, 7]\n",
    "results = {}\n",
    "\n",
    "for h in horizons:\n",
    "    prophet_preds = run_prophet(train, test, h)\n",
    "    lstm_preds = run_lstm(train, test, h)\n",
    "\n",
    "    y_true = test.values[:h]\n",
    "\n",
    "    mape_prophet = evaluate(y_true, prophet_preds, f'Prophet {h}d')\n",
    "    mape_lstm = evaluate(y_true, lstm_preds, f'LSTM {h}d')\n",
    "\n",
    "    results[h] = {\n",
    "        'Prophet': (prophet_preds, mape_prophet),\n",
    "        'LSTM': (lstm_preds, mape_lstm),\n",
    "        'y_true': y_true\n",
    "    }\n"
   ]
  },
  {
   "cell_type": "code",
   "execution_count": 25,
   "id": "2e398d9c-ccd3-40b7-a267-e2a1c7a0cccc",
   "metadata": {},
   "outputs": [
    {
     "name": "stdout",
     "output_type": "stream",
     "text": [
      "Gráfico salvo em results/Prophet_1d.png\n",
      "Gráfico salvo em results/LSTM_1d.png\n",
      "Gráfico salvo em results/Prophet_3d.png\n",
      "Gráfico salvo em results/LSTM_3d.png\n",
      "Gráfico salvo em results/Prophet_7d.png\n",
      "Gráfico salvo em results/LSTM_7d.png\n"
     ]
    }
   ],
   "source": [
    "# [9] Função para plotar e salvar gráficos\n",
    "def plot_and_save(y_true, y_pred, label, horizon, model_name):\n",
    "    plt.figure(figsize=(8,5))\n",
    "    plt.plot(range(len(y_true)), y_true, label='Real', marker='o')\n",
    "    plt.plot(range(len(y_pred)), y_pred, label=f'Previsão {model_name}', marker='x')\n",
    "    plt.title(f'{model_name} - Previsão {horizon} dias')\n",
    "    plt.legend()\n",
    "    plt.tight_layout()\n",
    "\n",
    "    os.makedirs('results', exist_ok=True)\n",
    "    path = f'results/{model_name}_{horizon}d.png'\n",
    "    plt.savefig(path)\n",
    "    plt.close()\n",
    "    print(f'Gráfico salvo em {path}')\n",
    "\n",
    "# salvar gráficos\n",
    "for h in horizons:\n",
    "    y_true = results[h]['y_true']\n",
    "    plot_and_save(y_true, results[h]['Prophet'][0], 'Prophet', h, 'Prophet')\n",
    "    plot_and_save(y_true, results[h]['LSTM'][0], 'LSTM', h, 'LSTM')\n"
   ]
  },
  {
   "cell_type": "code",
   "execution_count": null,
   "id": "60e3a109-8191-498e-b1ba-5442f0ee6310",
   "metadata": {},
   "outputs": [],
   "source": []
  }
 ],
 "metadata": {
  "kernelspec": {
   "display_name": "Python 3 (ipykernel)",
   "language": "python",
   "name": "python3"
  },
  "language_info": {
   "codemirror_mode": {
    "name": "ipython",
    "version": 3
   },
   "file_extension": ".py",
   "mimetype": "text/x-python",
   "name": "python",
   "nbconvert_exporter": "python",
   "pygments_lexer": "ipython3",
   "version": "3.13.5"
  }
 },
 "nbformat": 4,
 "nbformat_minor": 5
}
